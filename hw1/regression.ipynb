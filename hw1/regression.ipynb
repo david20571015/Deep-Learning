{
 "cells": [
  {
   "cell_type": "code",
   "execution_count": null,
   "metadata": {},
   "outputs": [],
   "source": [
    "import matplotlib.pyplot as plt\n",
    "import numpy as np\n",
    "import pandas as pd\n",
    "\n",
    "from src import layer, losses\n",
    "from src.model import Model"
   ]
  },
  {
   "cell_type": "code",
   "execution_count": null,
   "metadata": {},
   "outputs": [],
   "source": [
    "data_df = pd.read_csv('energy_efficiency_data.csv')\n",
    "\n",
    "data_x_df = data_df.drop('Heating Load', axis=1)\n",
    "data_x_df = pd.get_dummies(data_x_df,\n",
    "                           columns=['Orientation', 'Glazing Area Distribution'],\n",
    "                           dtype=float)\n",
    "\n",
    "data_df = pd.concat(\n",
    "    [data_x_df, data_df['Heating Load']],\n",
    "    axis=1,\n",
    ")\n",
    "\n",
    "data_df\n"
   ]
  },
  {
   "cell_type": "code",
   "execution_count": null,
   "metadata": {},
   "outputs": [],
   "source": [
    "dataset = np.array(data_df)\n",
    "np.random.shuffle(dataset)\n",
    "\n",
    "train_ratio = 0.75\n",
    "train_size = int(len(dataset) * train_ratio)\n",
    "\n",
    "train_feature = dataset[:train_size, :-1]\n",
    "test_feature = dataset[train_size:, :-1]\n",
    "train_target = dataset[:train_size, -1:]\n",
    "test_target = dataset[train_size:, -1:]"
   ]
  },
  {
   "cell_type": "code",
   "execution_count": null,
   "metadata": {},
   "outputs": [],
   "source": [
    "def split_batch(x, y, batch_size):\n",
    "    for i in range(0, len(x), batch_size):\n",
    "        if i + batch_size < len(x):\n",
    "            yield x[i:i + batch_size], y[i:i + batch_size]\n",
    "        yield x[i:], y[i:]"
   ]
  },
  {
   "cell_type": "code",
   "execution_count": null,
   "metadata": {},
   "outputs": [],
   "source": [
    "INPUT_FEATURES = train_feature.shape[1]\n",
    "OUTPUT_FEATURES = 1\n",
    "\n",
    "model = Model([\n",
    "    layer.Linear(INPUT_FEATURES, 16),\n",
    "    layer.ReLU(),\n",
    "    layer.Linear(16, OUTPUT_FEATURES),\n",
    "])\n",
    "\n",
    "mse = losses.MSE()"
   ]
  },
  {
   "cell_type": "code",
   "execution_count": null,
   "metadata": {},
   "outputs": [],
   "source": [
    "EPOCHES = 1000\n",
    "BATCH_SIZE = 64\n",
    "\n",
    "train_losses = []\n",
    "for epoch in range(EPOCHES):\n",
    "\n",
    "    losses = []\n",
    "    for x, y in split_batch(train_feature, train_target, BATCH_SIZE):\n",
    "        y_pred = model(x)\n",
    "        losses.append(mse(y_pred, y))\n",
    "        grad = mse.backward()\n",
    "        model.backward(grad)\n",
    "        model.update(0.001)\n",
    "\n",
    "    train_losses.append(np.mean(losses))\n",
    "\n",
    "    if (epoch + 1) % 100 == 0:\n",
    "        print(f'Epoch {epoch}: {np.mean(losses)}')"
   ]
  },
  {
   "cell_type": "code",
   "execution_count": null,
   "metadata": {},
   "outputs": [],
   "source": [
    "plt.plot(train_losses)"
   ]
  },
  {
   "cell_type": "code",
   "execution_count": null,
   "metadata": {},
   "outputs": [],
   "source": [
    "y_pred = model(test_feature)\n",
    "print(mse(y_pred, test_target))"
   ]
  }
 ],
 "metadata": {
  "kernelspec": {
   "display_name": "Python 3.8.10 ('hw1-k9pc7JND-py3.8')",
   "language": "python",
   "name": "python3"
  },
  "language_info": {
   "codemirror_mode": {
    "name": "ipython",
    "version": 3
   },
   "file_extension": ".py",
   "mimetype": "text/x-python",
   "name": "python",
   "nbconvert_exporter": "python",
   "pygments_lexer": "ipython3",
   "version": "3.8.10"
  },
  "orig_nbformat": 4,
  "vscode": {
   "interpreter": {
    "hash": "e1200e3e3162acdcdf44bfe9576235fcb08c23d56ea64e18405c5585faf14603"
   }
  }
 },
 "nbformat": 4,
 "nbformat_minor": 2
}
