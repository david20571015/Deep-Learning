{
 "cells": [
  {
   "cell_type": "code",
   "execution_count": null,
   "metadata": {},
   "outputs": [],
   "source": [
    "import matplotlib.pyplot as plt\n",
    "import numpy as np\n",
    "import pandas as pd"
   ]
  },
  {
   "cell_type": "code",
   "execution_count": null,
   "metadata": {},
   "outputs": [],
   "source": [
    "data_df = pd.read_csv('energy_efficiency_data.csv')\n",
    "\n",
    "data_x_df = data_df.drop('Heating Load', axis=1)\n",
    "data_x_df = pd.get_dummies(data_x_df,\n",
    "                           columns=['Orientation', 'Glazing Area Distribution'],\n",
    "                           dtype=float)\n",
    "\n",
    "data_df = pd.concat(\n",
    "    [data_x_df, data_df['Heating Load']],\n",
    "    axis=1,\n",
    ")\n",
    "\n",
    "data_df\n"
   ]
  },
  {
   "cell_type": "code",
   "execution_count": null,
   "metadata": {},
   "outputs": [],
   "source": [
    "dataset = np.array(data_df)\n",
    "np.random.shuffle(dataset)\n",
    "\n",
    "train_ratio = 0.75\n",
    "train_size = int(len(dataset) * train_ratio)\n",
    "\n",
    "train_feature = dataset[:train_size, :-1]\n",
    "test_feature = dataset[train_size:, :-1]\n",
    "train_target = dataset[:train_size, -1:]\n",
    "test_target = dataset[train_size:, -1:]"
   ]
  },
  {
   "cell_type": "code",
   "execution_count": null,
   "metadata": {},
   "outputs": [],
   "source": [
    "def split_batch(x, y, batch_size):\n",
    "    for i in range(0, len(x), batch_size):\n",
    "        if i + batch_size < len(x):\n",
    "            yield x[i:i + batch_size], y[i:i + batch_size]\n",
    "        yield x[i:], y[i:]"
   ]
  },
  {
   "cell_type": "code",
   "execution_count": null,
   "metadata": {},
   "outputs": [],
   "source": [
    "from src import layer, losses\n",
    "from src.model import Model\n",
    "\n",
    "INPUT_FEATURES = train_feature.shape[1]\n",
    "OUTPUT_FEATURES = 1\n",
    "\n",
    "model = Model([\n",
    "    layer.Linear(INPUT_FEATURES, 16),\n",
    "    layer.ReLU(),\n",
    "    layer.Linear(16, 8),\n",
    "    layer.ReLU(),\n",
    "    layer.Linear(8, OUTPUT_FEATURES),\n",
    "])"
   ]
  },
  {
   "cell_type": "code",
   "execution_count": null,
   "metadata": {},
   "outputs": [],
   "source": [
    "mse = losses.MSE()\n",
    "loss = mse(model(train_feature[:10]), train_target[:10])\n",
    "loss"
   ]
  },
  {
   "cell_type": "code",
   "execution_count": null,
   "metadata": {},
   "outputs": [],
   "source": [
    "EPOCHES = 10\n",
    "BATCH_SIZE = 32\n",
    "\n",
    "for epoch in range(EPOCHES):\n",
    "\n",
    "    losses = []\n",
    "    for x, y in split_batch(train_feature, train_target, BATCH_SIZE):\n",
    "        y_pred = model(x)\n",
    "        loss = mse(y_pred, y)\n",
    "        losses.append(loss)\n",
    "        grad = mse.backward()\n",
    "        model.backward(grad)\n",
    "        model.update(0.001)\n",
    "\n",
    "    print(f'Epoch: {epoch}, Loss: {np.mean(losses)}')"
   ]
  },
  {
   "cell_type": "code",
   "execution_count": null,
   "metadata": {},
   "outputs": [],
   "source": []
  }
 ],
 "metadata": {
  "kernelspec": {
   "display_name": "Python 3.10.8 ('hw1-v-4NAtsM-py3.10')",
   "language": "python",
   "name": "python3"
  },
  "language_info": {
   "codemirror_mode": {
    "name": "ipython",
    "version": 3
   },
   "file_extension": ".py",
   "mimetype": "text/x-python",
   "name": "python",
   "nbconvert_exporter": "python",
   "pygments_lexer": "ipython3",
   "version": "3.10.8"
  },
  "orig_nbformat": 4,
  "vscode": {
   "interpreter": {
    "hash": "6e9abf8fd592c2dc9f7c0d5f8c6e808367875e1938809e9b3e2fc288b877d62b"
   }
  }
 },
 "nbformat": 4,
 "nbformat_minor": 2
}
