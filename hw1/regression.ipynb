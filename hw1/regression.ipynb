{
 "cells": [
  {
   "cell_type": "code",
   "execution_count": null,
   "metadata": {},
   "outputs": [],
   "source": [
    "import matplotlib.pyplot as plt\n",
    "import numpy as np\n",
    "import pandas as pd\n",
    "\n",
    "from src import layer, losses\n",
    "from src.model import Model\n",
    "from src.utils import split_batch, train_step, test_step"
   ]
  },
  {
   "cell_type": "code",
   "execution_count": null,
   "metadata": {},
   "outputs": [],
   "source": [
    "data_df = pd.read_csv('energy_efficiency_data.csv')\n",
    "\n",
    "data_x_df = data_df.drop(['Heating Load', 'Cooling Load'], axis=1)\n",
    "data_x_df = pd.get_dummies(data_x_df,\n",
    "                           columns=['Orientation', 'Glazing Area Distribution'],\n",
    "                           dtype=float)\n",
    "\n",
    "data_df = pd.concat(\n",
    "    [data_x_df, data_df['Heating Load']],\n",
    "    axis=1,\n",
    ")\n",
    "\n",
    "data_df\n"
   ]
  },
  {
   "cell_type": "code",
   "execution_count": null,
   "metadata": {},
   "outputs": [],
   "source": [
    "dataset = np.array(data_df)\n",
    "np.random.default_rng().shuffle(dataset)\n",
    "\n",
    "train_ratio = 0.75\n",
    "train_size = int(len(dataset) * train_ratio)\n",
    "\n",
    "train_feature = dataset[:train_size, :-1]\n",
    "train_mean = np.mean(train_feature, axis=0)\n",
    "train_std = np.std(train_feature, axis=0)\n",
    "train_feature = (train_feature - train_mean) / train_std\n",
    "\n",
    "test_feature = (dataset[train_size:, :-1] - train_mean) / train_std\n",
    "\n",
    "train_target = dataset[:train_size, -1:]\n",
    "test_target = dataset[train_size:, -1:]"
   ]
  },
  {
   "cell_type": "code",
   "execution_count": null,
   "metadata": {},
   "outputs": [],
   "source": [
    "INPUT_FEATURES = train_feature.shape[1]\n",
    "OUTPUT_FEATURES = 1\n",
    "\n",
    "model = Model([\n",
    "    layer.Linear(INPUT_FEATURES, 10),\n",
    "    layer.Sigmoid(),\n",
    "    layer.Linear(10, 10),\n",
    "    layer.Sigmoid(),\n",
    "    layer.Linear(10, OUTPUT_FEATURES),\n",
    "])\n",
    "\n",
    "mse = losses.MSE()"
   ]
  },
  {
   "cell_type": "code",
   "execution_count": null,
   "metadata": {},
   "outputs": [],
   "source": [
    "EPOCHES = 5000\n",
    "BATCH_SIZE = 2**7\n",
    "\n",
    "train_losses, test_losses = [], []\n",
    "for epoch in range(EPOCHES):\n",
    "\n",
    "    train_iter_losses, test_iter_losses = [], []\n",
    "    for x, y in split_batch(train_feature, train_target, BATCH_SIZE):\n",
    "        train_loss = train_step(x, y, model, mse, learning_rate=0.1)\n",
    "        train_iter_losses.append(np.sqrt(train_loss))\n",
    "    train_losses.append(np.mean(train_iter_losses))\n",
    "\n",
    "    for x, y in split_batch(test_feature, test_target, BATCH_SIZE):\n",
    "        test_loss = test_step(x, y, model, mse)\n",
    "        test_iter_losses.append(np.sqrt(test_loss))\n",
    "    test_losses.append(np.mean(test_iter_losses))\n",
    "\n",
    "    if (epoch + 1) % 500 == 0:\n",
    "        print(\n",
    "            f'Epoch {epoch}: train loss {train_losses[-1]}, test loss {test_losses[-1]}'\n",
    "        )\n"
   ]
  },
  {
   "cell_type": "code",
   "execution_count": null,
   "metadata": {},
   "outputs": [],
   "source": [
    "plt.plot(test_target)\n",
    "plt.plot(model(test_feature))"
   ]
  },
  {
   "cell_type": "code",
   "execution_count": null,
   "metadata": {},
   "outputs": [],
   "source": [
    "plt.plot(train_losses)\n",
    "plt.plot(test_losses)"
   ]
  }
 ],
 "metadata": {
  "kernelspec": {
   "display_name": "Python 3.10.8 ('hw1-v-4NAtsM-py3.10')",
   "language": "python",
   "name": "python3"
  },
  "language_info": {
   "codemirror_mode": {
    "name": "ipython",
    "version": 3
   },
   "file_extension": ".py",
   "mimetype": "text/x-python",
   "name": "python",
   "nbconvert_exporter": "python",
   "pygments_lexer": "ipython3",
   "version": "3.10.8"
  },
  "orig_nbformat": 4,
  "vscode": {
   "interpreter": {
    "hash": "6e9abf8fd592c2dc9f7c0d5f8c6e808367875e1938809e9b3e2fc288b877d62b"
   }
  }
 },
 "nbformat": 4,
 "nbformat_minor": 2
}
