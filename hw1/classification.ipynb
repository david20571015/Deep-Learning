{
 "cells": [
  {
   "cell_type": "code",
   "execution_count": null,
   "metadata": {},
   "outputs": [],
   "source": [
    "import matplotlib.pyplot as plt\n",
    "import numpy as np\n",
    "import pandas as pd\n",
    "\n",
    "from src import layer, losses\n",
    "from src.model import Model"
   ]
  },
  {
   "cell_type": "code",
   "execution_count": null,
   "metadata": {},
   "outputs": [],
   "source": [
    "data_df = pd.read_csv('ionosphere_data.csv', header=None)\n",
    "\n",
    "data_df['is_good'] = data_df[34].apply(lambda x: 1 if x == 'g' else 0)\n",
    "data_df = data_df.drop(34, axis=1)\n",
    "\n",
    "data_df\n"
   ]
  },
  {
   "cell_type": "code",
   "execution_count": null,
   "metadata": {},
   "outputs": [],
   "source": [
    "dataset = np.array(data_df)\n",
    "np.random.shuffle(dataset)\n",
    "\n",
    "train_ratio = 0.8\n",
    "train_size = int(len(dataset) * train_ratio)\n",
    "\n",
    "train_feature = dataset[:train_size, :-1]\n",
    "test_feature = dataset[train_size:, :-1]\n",
    "train_target = dataset[:train_size, -1:]\n",
    "test_target = dataset[train_size:, -1:]"
   ]
  },
  {
   "cell_type": "code",
   "execution_count": null,
   "metadata": {},
   "outputs": [],
   "source": [
    "def split_batch(x, y, batch_size):\n",
    "    for i in range(0, len(x), batch_size):\n",
    "        if i + batch_size < len(x):\n",
    "            yield x[i:i + batch_size], y[i:i + batch_size]\n",
    "        yield x[i:], y[i:]"
   ]
  },
  {
   "cell_type": "code",
   "execution_count": null,
   "metadata": {},
   "outputs": [],
   "source": [
    "INPUT_FEATURES = train_feature.shape[1]\n",
    "\n",
    "model = Model([\n",
    "    layer.Linear(INPUT_FEATURES, 8),\n",
    "    layer.ReLU(),\n",
    "    layer.Linear(8, 1),\n",
    "    layer.Sigmoid(),\n",
    "])\n",
    "\n",
    "bce = losses.BinaryCrossEntropy()"
   ]
  },
  {
   "cell_type": "code",
   "execution_count": null,
   "metadata": {},
   "outputs": [],
   "source": [
    "EPOCHES = 1000\n",
    "BATCH_SIZE = 128\n",
    "\n",
    "train_losses = []\n",
    "for epoch in range(EPOCHES):\n",
    "\n",
    "    losses = []\n",
    "    for x, y in split_batch(train_feature, train_target, BATCH_SIZE):\n",
    "        y_pred = model(x)\n",
    "        losses.append(bce(y_pred, y))\n",
    "        grad = bce.backward()\n",
    "        model.backward(grad)\n",
    "        model.update(0.001)\n",
    "\n",
    "    train_losses.append(np.mean(losses))\n",
    "\n",
    "    if (epoch + 1) % 100 == 0:\n",
    "        print(f'Epoch {epoch}: {np.mean(losses)}')"
   ]
  },
  {
   "cell_type": "code",
   "execution_count": null,
   "metadata": {},
   "outputs": [],
   "source": [
    "plt.plot(train_losses)"
   ]
  },
  {
   "cell_type": "code",
   "execution_count": null,
   "metadata": {},
   "outputs": [],
   "source": [
    "y_pred = model(test_feature)\n",
    "print(bce(y_pred, test_target))"
   ]
  },
  {
   "cell_type": "code",
   "execution_count": null,
   "metadata": {},
   "outputs": [],
   "source": [
    "pd.DataFrame(np.concatenate([y_pred, test_target], axis=1))"
   ]
  }
 ],
 "metadata": {
  "kernelspec": {
   "display_name": "Python 3.10.8 ('hw1-k9pc7JND-py3.10')",
   "language": "python",
   "name": "python3"
  },
  "language_info": {
   "codemirror_mode": {
    "name": "ipython",
    "version": 3
   },
   "file_extension": ".py",
   "mimetype": "text/x-python",
   "name": "python",
   "nbconvert_exporter": "python",
   "pygments_lexer": "ipython3",
   "version": "3.10.8"
  },
  "orig_nbformat": 4,
  "vscode": {
   "interpreter": {
    "hash": "b3ff025449adde4529a09ed57558184f3ac56f84eadd2d1fcb63fdc09577040e"
   }
  }
 },
 "nbformat": 4,
 "nbformat_minor": 2
}
